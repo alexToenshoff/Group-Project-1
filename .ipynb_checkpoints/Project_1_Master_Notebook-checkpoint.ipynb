{
 "cells": [
  {
   "cell_type": "markdown",
   "id": "6291b404-e374-4563-b2dd-4fc0dcf0a29e",
   "metadata": {},
   "source": [
    "## Project 1 ##\n",
    "----"
   ]
  },
  {
   "cell_type": "code",
   "execution_count": 9,
   "id": "091fd7ba-fb82-4c91-9012-e00857a04a3f",
   "metadata": {},
   "outputs": [],
   "source": [
    "# Initial imports\n",
    "import os\n",
    "import requests\n",
    "import pandas as pd\n",
    "from dotenv import load_dotenv\n",
    "import alpaca_trade_api as tradeapi\n",
    "from MCForecastTools import MCSimulation\n",
    "\n",
    "%matplotlib inline\n",
    "\n",
    "# # imports\n",
    "# import panel as pn\n",
    "# pn.extension('plotly')\n",
    "# import plotly.express as px\n",
    "# import pandas as pd\n",
    "# import hvplot.pandas\n",
    "# import matplotlib.pyplot as plt\n",
    "# import os\n",
    "# from pathlib import Path\n",
    "# from dotenv import load_dotenv"
   ]
  },
  {
   "cell_type": "code",
   "execution_count": 10,
   "id": "3b74f2af-439e-4cdb-9e93-57170e45465c",
   "metadata": {},
   "outputs": [
    {
     "data": {
      "text/plain": [
       "True"
      ]
     },
     "execution_count": 10,
     "metadata": {},
     "output_type": "execute_result"
    }
   ],
   "source": [
    "load_dotenv()"
   ]
  },
  {
   "cell_type": "code",
   "execution_count": null,
   "id": "daa1278c-fa17-4020-b07a-536fbb83a858",
   "metadata": {},
   "outputs": [],
   "source": [
    "# Set Alpaca API key and secret\n",
    "alpaca_api_key = os.getenv(\"ALPACA_API_KEY\")\n",
    "alpaca_secret_key = os.getenv(\"ALPACA_SECRET_KEY\")\n",
    " \n",
    "# Create the Alpaca API object\n",
    "alpaca = tradeapi.REST(\n",
    "    alpaca_api_key,\n",
    "    alpaca_secret_key,\n",
    "    api_version=\"v2\"\n",
    ")\n"
   ]
  },
  {
   "cell_type": "code",
   "execution_count": null,
   "id": "aeada754-14e9-4e44-867c-fb3e94633f93",
   "metadata": {},
   "outputs": [],
   "source": [
    "#Crypto portfolio index: BTC, ETH, LTC, ADA, DOGE\n",
    "#Financial portfolio index: VISA, SQUARE, PAYPAL, MASTERCARD, AMEX\n",
    "#Technology portfolio index: FACEBOOK, AMAZON, APPLE, NETFLIX, GOOGLE\n",
    "\n",
    "# Format current date as ISO format\n",
    "today = pd.Timestamp(\"2020-05-01\", tz=\"America/New_York\").isoformat()\n",
    "\n",
    "# Set the tickers for Financial and Technology portfolio indexes\n",
    "fin_tickers = [\"V\", \"SQ\", \"PYPL\", \"MA\"]\n",
    "faang_tickers = [\"FB\", \"AMZN\", \"AAPL\", \"NFLX\", \"GOOGL\"]\n",
    "\n",
    "# Set timeframe to '1D' for Alpaca API\n",
    "timeframe = \"1D\"\n",
    "\n",
    "# Get current closing prices for all Fintech stocks\n",
    "# (use a limit=1000 parameter to call the most recent 1000 days of data)\n",
    "fintech_investments = alpaca.get_barset(\n",
    "    tickers,\n",
    "    timeframe,\n",
    "    start = today,\n",
    "    limit=1095\n",
    ").df\n"
   ]
  },
  {
   "cell_type": "code",
   "execution_count": 7,
   "id": "c8f660d6-2d3e-4d6e-a1f2-c1aca4c65937",
   "metadata": {},
   "outputs": [],
   "source": [
    "#Crypto portfolio index: BTC, ETH, LTC, ADA, DOGE\n",
    "btc_url = \"https://api.alternative.me/v2/ticker/Bitcoin/?convert=USD\"\n",
    "eth_url = \"https://api.alternative.me/v2/ticker/Ethereum/?convert=USD\"\n",
    "ltc_url = \"https://api.alternative.me/v2/ticker/Litecoin/?convert=USD\"\n",
    "ada_url = \"https://api.alternative.me/v2/ticker/Cardano/?convert=USD\"\n",
    "doge_url = \"https://api.alternative.me/v2/ticker/Dogecoin/?convert=USD\"\n",
    "\n",
    "requests.get(btc_url)\n",
    "requests.get(eth_url)\n",
    "requests.get(ltc_url)\n",
    "requests.get(ada_url)\n",
    "requests.get(doge_url)\n",
    "\n",
    "# Fetch current crypto asset pricing\n",
    "btc_response_data = requests.get(btc_url)\n",
    "eth_response_data = requests.get(eth_url)\n",
    "ltc_response_data = requests.get(ltc_url)\n",
    "ada_response_data = requests.get(ada_url)\n",
    "doge_response_data = requests.get(doge_url)\n",
    "\n",
    "\n",
    "btc_content = btc_response_data.content\n",
    "eth_content = eth_response_data.content\n",
    "ltc_content = ltc_response_data.content\n",
    "ada_content = ada_response_data.content\n",
    "doge_content = doge_response_data.content"
   ]
  }
 ],
 "metadata": {
  "kernelspec": {
   "display_name": "Python 3 (ipykernel)",
   "language": "python",
   "name": "python3"
  },
  "language_info": {
   "codemirror_mode": {
    "name": "ipython",
    "version": 3
   },
   "file_extension": ".py",
   "mimetype": "text/x-python",
   "name": "python",
   "nbconvert_exporter": "python",
   "pygments_lexer": "ipython3",
   "version": "3.8.8"
  }
 },
 "nbformat": 4,
 "nbformat_minor": 5
}
