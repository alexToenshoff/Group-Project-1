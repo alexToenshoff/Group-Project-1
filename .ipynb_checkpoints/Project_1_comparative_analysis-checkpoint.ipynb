{
 "cells": [
  {
   "cell_type": "markdown",
   "id": "6291b404-e374-4563-b2dd-4fc0dcf0a29e",
   "metadata": {
    "tags": []
   },
   "source": [
    "## Project 1: FinTech Stock Portfolio vs. Crypto Portfolio - Comparative Analysis ##\n",
    "\n",
    "In this notebook, we've created a comparative analysis across portfolios using quantitative metrics. The underlying data from this notebook is then converted to visualizations in the dashboard notebook."
   ]
  },
  {
   "cell_type": "code",
   "execution_count": 9,
   "id": "091fd7ba-fb82-4c91-9012-e00857a04a3f",
   "metadata": {},
   "outputs": [],
   "source": [
    "# Initial imports\n",
    "import os\n",
    "import requests\n",
    "import pandas as pd\n",
    "from dotenv import load_dotenv\n",
    "import alpaca_trade_api as tradeapi\n",
    "from MCForecastTools import MCSimulation\n",
    "\n",
    "%matplotlib inline"
   ]
  },
  {
   "cell_type": "code",
   "execution_count": 10,
   "id": "3b74f2af-439e-4cdb-9e93-57170e45465c",
   "metadata": {},
   "outputs": [
    {
     "data": {
      "text/plain": [
       "True"
      ]
     },
     "execution_count": 10,
     "metadata": {},
     "output_type": "execute_result"
    }
   ],
   "source": [
    "load_dotenv()"
   ]
  },
  {
   "cell_type": "code",
   "execution_count": null,
   "id": "daa1278c-fa17-4020-b07a-536fbb83a858",
   "metadata": {},
   "outputs": [],
   "source": [
    "# Set Alpaca API key and secret\n",
    "alpaca_api_key = os.getenv(\"ALPACA_API_KEY\")\n",
    "alpaca_secret_key = os.getenv(\"ALPACA_SECRET_KEY\")\n",
    " \n",
    "# Create the Alpaca API object\n",
    "alpaca = tradeapi.REST(\n",
    "    alpaca_api_key,\n",
    "    alpaca_secret_key,\n",
    "    api_version=\"v2\"\n",
    ")"
   ]
  },
  {
   "cell_type": "markdown",
   "id": "54f859f8-9a7c-46fc-b9ec-1e55364942af",
   "metadata": {},
   "source": [
    "# FinTech Stock Portfolio #"
   ]
  },
  {
   "cell_type": "code",
   "execution_count": null,
   "id": "aeada754-14e9-4e44-867c-fb3e94633f93",
   "metadata": {},
   "outputs": [],
   "source": [
    "# Financial portfolio index: VISA, SQUARE, PAYPAL, MASTERCARD, AMEX\n",
    "# Technology portfolio index: FACEBOOK, AMAZON, APPLE, NETFLIX, GOOGLE\n",
    "\n",
    "# Format current date as ISO format\n",
    "today = pd.Timestamp(\"2020-05-01\", tz=\"America/New_York\").isoformat()\n",
    "\n",
    "# Set the tickers for Financial and Technology portfolio indexes\n",
    "fin_tickers = [\"V\", \"SQ\", \"PYPL\", \"MA\"]\n",
    "faang_tickers = [\"FB\", \"AMZN\", \"AAPL\", \"NFLX\", \"GOOGL\"]\n",
    "\n",
    "# Set timeframe to '1D' for Alpaca API\n",
    "timeframe = \"1D\"\n",
    "\n",
    "# Get current closing prices for all Fintech stocks\n",
    "# (use a limit=1000 parameter to call the most recent 1000 days of data)\n",
    "fintech_investments = alpaca.get_barset(\n",
    "    tickers,\n",
    "    timeframe,\n",
    "    start = today,\n",
    "    limit=1095\n",
    ").df\n"
   ]
  },
  {
   "cell_type": "code",
   "execution_count": null,
   "id": "c3c4a4b4-47c4-4d0e-a272-bba03dea4c78",
   "metadata": {},
   "outputs": [],
   "source": [
    "# Combine all stock data into a single DataFrame\n",
    "all_stocks = pd.concat([google_historical, apple_historical, costco_historical], axis=\"rows\", join=\"inner\")\n",
    "all_stocks.head()"
   ]
  },
  {
   "cell_type": "code",
   "execution_count": null,
   "id": "ae9d4df4-d0ea-4686-bdf4-425c4d3d3809",
   "metadata": {},
   "outputs": [],
   "source": [
    "# Organize stock portfolio data by retrieving close prices for each stock (pivot_table)\n",
    "portfolio = all_stocks.pivot_table(values=\"NOCP\", index=\"Trade DATE\", columns=\"Symbol\")\n",
    "portfolio.head()"
   ]
  },
  {
   "cell_type": "code",
   "execution_count": null,
   "id": "30cc2e9f-97cc-4f33-ac6f-52d7c7f0cfc6",
   "metadata": {},
   "outputs": [],
   "source": [
    "# Calculate daily returns for each stock column\n",
    "daily_returns = portfolio.pct_change()\n",
    "\n",
    "# Drop NAs\n",
    "daily_returns = daily_returns.dropna().copy()\n",
    "\n",
    "# Display sample data\n",
    "daily_returns.head()"
   ]
  },
  {
   "cell_type": "code",
   "execution_count": null,
   "id": "a89ee168-3615-4610-af1f-24079f716c07",
   "metadata": {},
   "outputs": [],
   "source": [
    "# Calculate the weighted returns for the stock portfolio with equal weights\n",
    "\n",
    "# Set weights\n",
    "weights = [1/3, 1/3, 1/3]\n",
    "\n",
    "# Calculate portfolio return\n",
    "portfolio_returns = daily_returns.dot(weights)\n",
    "\n",
    "# Display sample data\n",
    "portfolio_returns.head()"
   ]
  },
  {
   "cell_type": "markdown",
   "id": "afe51348-a4fb-4af4-a3f8-daa4d2ff9447",
   "metadata": {},
   "source": [
    "# Crypto Portfolio #"
   ]
  },
  {
   "cell_type": "code",
   "execution_count": 7,
   "id": "c8f660d6-2d3e-4d6e-a1f2-c1aca4c65937",
   "metadata": {},
   "outputs": [],
   "source": [
    "# Crypto portfolio index: BTC, ETH, LTC, ADA, DOGE\n",
    "btc_url = \"https://api.alternative.me/v2/ticker/Bitcoin/?convert=USD\"\n",
    "eth_url = \"https://api.alternative.me/v2/ticker/Ethereum/?convert=USD\"\n",
    "ltc_url = \"https://api.alternative.me/v2/ticker/Litecoin/?convert=USD\"\n",
    "ada_url = \"https://api.alternative.me/v2/ticker/Cardano/?convert=USD\"\n",
    "doge_url = \"https://api.alternative.me/v2/ticker/Dogecoin/?convert=USD\"\n",
    "\n",
    "# Fetch current crypto asset pricing\n",
    "btc_response_data = requests.get(btc_url).json()\n",
    "eth_response_data = requests.get(eth_url).json()\n",
    "ltc_response_data = requests.get(ltc_url).json()\n",
    "ada_response_data = requests.get(ada_url).json()\n",
    "doge_response_data = requests.get(doge_url).json()\n",
    "\n",
    "\n",
    "btc_content = btc_response_data.content\n",
    "eth_content = eth_response_data.content\n",
    "ltc_content = ltc_response_data.content\n",
    "ada_content = ada_response_data.content\n",
    "doge_content = doge_response_data.content"
   ]
  },
  {
   "cell_type": "code",
   "execution_count": null,
   "id": "0fd59269-fd91-44fc-96a1-f66181b3bfbb",
   "metadata": {},
   "outputs": [],
   "source": [
    "# Combine all crypto data into a single DataFrame\n",
    "all_stocks = pd.concat([google_historical, apple_historical, costco_historical], axis=\"rows\", join=\"inner\")\n",
    "all_stocks.head()"
   ]
  },
  {
   "cell_type": "code",
   "execution_count": null,
   "id": "de597226-0a7d-43c5-a1f9-36548b5b8a28",
   "metadata": {},
   "outputs": [],
   "source": [
    "# Organize crypto portfolio data by retrieving close prices for each crypto (pivot_table)\n",
    "portfolio = all_stocks.pivot_table(values=\"NOCP\", index=\"Trade DATE\", columns=\"Symbol\")\n",
    "portfolio.head()"
   ]
  },
  {
   "cell_type": "code",
   "execution_count": null,
   "id": "2f0cfeb5-a63f-4f4d-a451-fbc628c54444",
   "metadata": {},
   "outputs": [],
   "source": [
    "# Calculate daily returns for each crypto column\n",
    "daily_returns = portfolio.pct_change()\n",
    "\n",
    "# Drop NAs\n",
    "daily_returns = daily_returns.dropna().copy()\n",
    "\n",
    "# Display sample data\n",
    "daily_returns.head()"
   ]
  },
  {
   "cell_type": "code",
   "execution_count": null,
   "id": "d42a7dd3-fae9-4e0b-8d37-dff254d2ba0b",
   "metadata": {},
   "outputs": [],
   "source": [
    "# Calculate the weighted returns for the crypto portfolio with equal weights\n",
    "\n",
    "# Set weights\n",
    "weights = [1/3, 1/3, 1/3]\n",
    "\n",
    "# Calculate portfolio return\n",
    "portfolio_returns = daily_returns.dot(weights)\n",
    "\n",
    "# Display sample data\n",
    "portfolio_returns.head()"
   ]
  },
  {
   "cell_type": "markdown",
   "id": "981392c1-5ee8-4cc8-a5c4-cd6045df242f",
   "metadata": {},
   "source": [
    "# Combined Data #"
   ]
  },
  {
   "cell_type": "code",
   "execution_count": null,
   "id": "59d6197a-8564-416a-bb6d-3d483ee40bff",
   "metadata": {},
   "outputs": [],
   "source": [
    "# Concatenate the stock portfolio weighted returns data frame to the crypto weighted returns data frame\n",
    "all_portfolios = pd.concat([whale_returns, algo_returns, sp500_returns], axis=\"columns\", join=\"inner\")\n",
    "all_portfolios = all_portfolios.dropna().copy()\n",
    "all_portfolios.head()"
   ]
  },
  {
   "cell_type": "markdown",
   "id": "8be7368f-8710-4262-b5ef-964077b32e10",
   "metadata": {},
   "source": [
    "# Quantitative Analysis #"
   ]
  },
  {
   "cell_type": "code",
   "execution_count": null,
   "id": "5ca29952-ea51-4897-80ba-d04024c90ffd",
   "metadata": {},
   "outputs": [],
   "source": [
    "# Plot daily returns of all portfolios\n",
    "all_portfolios.plot(figsize=(20, 10), title=\"Daily Returns\")"
   ]
  },
  {
   "cell_type": "code",
   "execution_count": null,
   "id": "98e3cb4e-ff77-4daf-a763-d16a405516ea",
   "metadata": {},
   "outputs": [],
   "source": [
    "# Calculate cumulative returns of all portfolios\n",
    "cumulative_returns = (1 + all_portfolios).cumprod()\n",
    "\n",
    "# Plot cumulative returns\n",
    "cumulative_returns.plot(figsize=(20, 10), title=\"Cumulative Returns\")"
   ]
  },
  {
   "cell_type": "markdown",
   "id": "1bf83d37-68bd-47c8-9a05-0ca05400ab9e",
   "metadata": {},
   "source": [
    "# Risk Analysis #"
   ]
  },
  {
   "cell_type": "code",
   "execution_count": null,
   "id": "2d182298-d8ac-4083-8f00-e4e4012c98f2",
   "metadata": {},
   "outputs": [],
   "source": [
    "# Box plot to visually show risk\n",
    "all_portfolios.plot.box(figsize=(20, 10), title=\"Portfolio Risk\")"
   ]
  },
  {
   "cell_type": "code",
   "execution_count": null,
   "id": "c6639c8b-cd71-4f63-874c-3f8c3c8e3206",
   "metadata": {},
   "outputs": [],
   "source": [
    "# Calculate the daily standard deviations of all portfolios\n",
    "all_portfolios.std()"
   ]
  },
  {
   "cell_type": "code",
   "execution_count": null,
   "id": "2b3dc0e1-d737-4bd0-84b1-76a6696c6de3",
   "metadata": {},
   "outputs": [],
   "source": [
    "# Calculate the daily standard deviation of the FinTech Stock Portfolio\n",
    "sp500_risk = all_portfolios[\"S&P 500\"].std()\n",
    "\n",
    "# Calculate the daily standard deviation of the Crypto Portfolio\n",
    "sp500_risk = all_portfolios[\"S&P 500\"].std()\n",
    "\n",
    "# Determine which portfolios is riskier than the other\n",
    "all_portfolios.std() > sp500_risk"
   ]
  },
  {
   "cell_type": "code",
   "execution_count": null,
   "id": "7332b3dc-9e58-4e91-897e-6cfe57054e43",
   "metadata": {},
   "outputs": [],
   "source": [
    "# Calculate the annualized standard deviation (252 trading days)\n",
    "anual_std = all_portfolios.std() * np.sqrt(252)\n",
    "anual_std"
   ]
  },
  {
   "cell_type": "code",
   "execution_count": null,
   "id": "0cccd8f7-9f0e-40ce-8891-ae4fde638378",
   "metadata": {},
   "outputs": [],
   "source": [
    "# Calculate the rolling standard deviation for all portfolios using a 21-day window\n",
    "all_portfolios_roll_std = all_portfolios.rolling(window=21).std()\n",
    "\n",
    "# Plot the rolling standard deviation\n",
    "all_portfolios_roll_std.plot(figsize=(20, 10), title=\"21 Day Rolling Standard Deviation\")"
   ]
  },
  {
   "cell_type": "code",
   "execution_count": null,
   "id": "59657d6a-8c77-42c9-8c7b-36e5a19deeb3",
   "metadata": {},
   "outputs": [],
   "source": [
    "# Calculate the correlation\n",
    "corr_df = all_portfolios.corr()\n",
    "\n",
    "# Display de correlation matrix\n",
    "corr_df.style.background_gradient(cmap=\"summer\")"
   ]
  },
  {
   "cell_type": "code",
   "execution_count": null,
   "id": "280e8e97-d458-4849-a2cd-d3dbb400785a",
   "metadata": {},
   "outputs": [],
   "source": [
    "# Calculate covariance of a single portfolio\n",
    "covariance = all_portfolios[\"BERKSHIRE HATHAWAY INC\"].rolling(window=60).cov(all_portfolios[\"S&P 500\"])\n",
    "\n",
    "# Calculate variance of S&P TSX\n",
    "variance = all_portfolios[\"S&P 500\"].rolling(60).var()\n",
    "\n",
    "# Computing beta\n",
    "beta = covariance / variance\n",
    "\n",
    "# Plot beta trend\n",
    "beta.plot(figsize=(20, 10), title=\"Berkshire Hathaway Inc. Beta\")"
   ]
  },
  {
   "cell_type": "markdown",
   "id": "c3524888-4706-42f5-9cd1-afbcee99817d",
   "metadata": {},
   "source": [
    "# Sharpe Ratios #"
   ]
  },
  {
   "cell_type": "code",
   "execution_count": null,
   "id": "26f3b33e-fdf1-4037-8aad-dedd89c92fda",
   "metadata": {},
   "outputs": [],
   "source": [
    "# Annualized Sharpe Ratios\n",
    "sharpe_ratios = (all_portfolios.mean() * 252) / (all_portfolios.std() * np.sqrt(252))\n",
    "sharpe_ratios"
   ]
  },
  {
   "cell_type": "code",
   "execution_count": null,
   "id": "348d5428-9800-4d41-bbb4-0d904bda4350",
   "metadata": {},
   "outputs": [],
   "source": [
    "# Visualize the sharpe ratios as a bar plot\n",
    "sharpe_ratios.plot(kind=\"bar\", title=\"Sharpe Ratios\")"
   ]
  },
  {
   "cell_type": "markdown",
   "id": "06feb9f3-9cd0-4db5-a077-8b7a300d6cd0",
   "metadata": {},
   "source": [
    "# FinTech Stock Portfolio Monte Carlo Simulation #"
   ]
  },
  {
   "cell_type": "code",
   "execution_count": null,
   "id": "9daf169d-2f97-44ac-a6b8-76790022e86c",
   "metadata": {},
   "outputs": [],
   "source": [
    "# Set start and end dates of five years back from today.\n",
    "# Sample results may vary from the solution based on the time frame chosen\n",
    "start_date = pd.Timestamp('2016-05-01', tz='America/New_York').isoformat()\n",
    "end_date = pd.Timestamp('2021-05-01', tz='America/New_York').isoformat()"
   ]
  },
  {
   "cell_type": "code",
   "execution_count": null,
   "id": "764481d4-394a-41a5-aa8f-1e569cb47fde",
   "metadata": {},
   "outputs": [],
   "source": [
    "# Retrieve the individual stock data in a single DataFrame with separate columns\n",
    "# Internal note: use the Combine all stock data into a single DataFrame code from initial code\n",
    "all_stocks = pd.concat([google_historical, apple_historical, costco_historical], axis=\"rows\", join=\"inner\")\n",
    "all_stocks.head()"
   ]
  },
  {
   "cell_type": "code",
   "execution_count": null,
   "id": "ebf9bbd0-4dd7-4a11-9187-b110f548d225",
   "metadata": {},
   "outputs": [],
   "source": [
    "# Configuring a FinTech Stock Portfolio Monte Carlo simulation to forecast 30 years cumulative returns\n",
    "MC_thirty_year = MCSimulation(\n",
    "    portfolio_data = df_stock_data,\n",
    "    weights = [.40,.60],\n",
    "    num_simulation = 500,\n",
    "    num_trading_days = 252 * 30\n",
    ")"
   ]
  },
  {
   "cell_type": "code",
   "execution_count": null,
   "id": "54159123-8e08-4ae1-930f-dd80572bf44f",
   "metadata": {},
   "outputs": [],
   "source": [
    "# Printing the simulation input data\n",
    "MC_thirty_year.portfolio_data.head()"
   ]
  },
  {
   "cell_type": "code",
   "execution_count": null,
   "id": "d1db8e57-2dc5-4bdf-8d01-b92f352f3cfb",
   "metadata": {},
   "outputs": [],
   "source": [
    "# Running a Monte Carlo simulation to forecast 30 years cumulative returns\n",
    "MC_thirty_year.calc_cumulative_return()"
   ]
  },
  {
   "cell_type": "code",
   "execution_count": null,
   "id": "61455008-8201-4882-bb82-05ffde700b39",
   "metadata": {},
   "outputs": [],
   "source": [
    "# Plot simulation outcomes\n",
    "line_plot = MC_thirty_year.plot_simulation()"
   ]
  },
  {
   "cell_type": "code",
   "execution_count": null,
   "id": "95eb39f9-0ca7-420c-bd05-771b89c1c242",
   "metadata": {},
   "outputs": [],
   "source": [
    "# Plot probability distribution and confidence intervals\n",
    "dist_plot = MC_thirty_year.plot_distribution()"
   ]
  },
  {
   "cell_type": "code",
   "execution_count": null,
   "id": "50ce433d-b406-414d-96d2-5ca61a208123",
   "metadata": {},
   "outputs": [],
   "source": [
    "# Fetch summary statistics from the Monte Carlo simulation results\n",
    "tbl = MC_thirty_year.summarize_cumulative_return()\n",
    "\n",
    "# Print summary statistics\n",
    "print(tbl)"
   ]
  },
  {
   "cell_type": "code",
   "execution_count": null,
   "id": "409766f1-2c4b-47fb-8d3f-c18b5388587e",
   "metadata": {},
   "outputs": [],
   "source": [
    "# Calculate the expected FinTech Stock Portfolio return at the `95%` lower and upper confidence intervals based on a `$20,000` initial investment.\n",
    "\n",
    "# Set initial investment\n",
    "initial_investment = 20000\n",
    "\n",
    "# Use the lower and upper `95%` confidence intervals to calculate the range of the possible outcomes of our $20,000\n",
    "ci_lower = round(tbl[8] * initial_investment,2)\n",
    "ci_upper = round(tbl[9] * initial_investment,2)\n",
    "\n",
    "# Print results\n",
    "print(f\"There is a 95% chance that an initial investment of ${initial_investment} in the portfolio\"\n",
    "      f\" over the next 30 years will end within in the range of\"\n",
    "      f\" ${ci_lower} and ${ci_upper}\")"
   ]
  },
  {
   "cell_type": "markdown",
   "id": "64d0f0ad-6c31-4783-a9e6-7ea7845e260c",
   "metadata": {},
   "source": [
    "# Crypto Portfolio Monte Carlo Simulation #"
   ]
  },
  {
   "cell_type": "code",
   "execution_count": null,
   "id": "2f51d33e-14a2-45de-ac2b-0ad66a43af15",
   "metadata": {},
   "outputs": [],
   "source": [
    "# Set start and end dates of five years back from today.\n",
    "# Sample results may vary from the solution based on the time frame chosen\n",
    "start_date = pd.Timestamp('2016-05-01', tz='America/New_York').isoformat()\n",
    "end_date = pd.Timestamp('2021-05-01', tz='America/New_York').isoformat()"
   ]
  },
  {
   "cell_type": "code",
   "execution_count": null,
   "id": "de7b57f2-e8b5-490c-a672-83a3ea67a076",
   "metadata": {},
   "outputs": [],
   "source": [
    "# Retrieve the individual crypto data in a single DataFrame with separate columns\n",
    "# Combine all crypto data into a single DataFrame\n",
    "all_stocks = pd.concat([google_historical, apple_historical, costco_historical], axis=\"rows\", join=\"inner\")\n",
    "all_stocks.head()"
   ]
  },
  {
   "cell_type": "code",
   "execution_count": null,
   "id": "c0425520-0915-4aa8-85a0-aa170734959d",
   "metadata": {},
   "outputs": [],
   "source": [
    "# Configuring a Crypto Portfolio Monte Carlo simulation to forecast 30 years cumulative returns\n",
    "MC_thirty_year = MCSimulation(\n",
    "    portfolio_data = df_stock_data,\n",
    "    weights = [.40,.60],\n",
    "    num_simulation = 500,\n",
    "    num_trading_days = 252 * 30\n",
    ")"
   ]
  },
  {
   "cell_type": "code",
   "execution_count": null,
   "id": "1642d606-e9c1-49de-9b32-5627be95fd92",
   "metadata": {},
   "outputs": [],
   "source": [
    "# Printing the simulation input data\n",
    "MC_thirty_year.portfolio_data.head()"
   ]
  },
  {
   "cell_type": "code",
   "execution_count": null,
   "id": "2d58af79-5704-4c8b-b626-ecb4a7d43d2c",
   "metadata": {},
   "outputs": [],
   "source": [
    "# Running a Monte Carlo simulation to forecast 30 years cumulative returns\n",
    "MC_thirty_year.calc_cumulative_return()"
   ]
  },
  {
   "cell_type": "code",
   "execution_count": null,
   "id": "a8c88d3d-d5ef-44ad-baa5-9cb96c2fc9c1",
   "metadata": {},
   "outputs": [],
   "source": [
    "# Plot simulation outcomes\n",
    "line_plot = MC_thirty_year.plot_simulation()"
   ]
  },
  {
   "cell_type": "code",
   "execution_count": null,
   "id": "aaad517c-9b7c-4065-a9c5-bc078b20df29",
   "metadata": {},
   "outputs": [],
   "source": [
    "# Plot probability distribution and confidence intervals\n",
    "dist_plot = MC_thirty_year.plot_distribution()"
   ]
  },
  {
   "cell_type": "code",
   "execution_count": null,
   "id": "12013680-b3ed-4792-b0b4-3697374675d0",
   "metadata": {},
   "outputs": [],
   "source": [
    "# Fetch summary statistics from the Monte Carlo simulation results\n",
    "tbl = MC_thirty_year.summarize_cumulative_return()\n",
    "\n",
    "# Print summary statistics\n",
    "print(tbl)"
   ]
  },
  {
   "cell_type": "code",
   "execution_count": null,
   "id": "efb2252e-4c3d-4b53-9dfb-21dae88e5db4",
   "metadata": {},
   "outputs": [],
   "source": [
    "# Calculate the expected Crypto Portfolio return at the `95%` lower and upper confidence intervals based on a `$20,000` initial investment.\n",
    "\n",
    "# Set initial investment\n",
    "initial_investment = 20000\n",
    "\n",
    "# Use the lower and upper `95%` confidence intervals to calculate the range of the possible outcomes of our $20,000\n",
    "ci_lower = round(tbl[8] * initial_investment,2)\n",
    "ci_upper = round(tbl[9] * initial_investment,2)\n",
    "\n",
    "# Print results\n",
    "print(f\"There is a 95% chance that an initial investment of ${initial_investment} in the portfolio\"\n",
    "      f\" over the next 30 years will end within in the range of\"\n",
    "      f\" ${ci_lower} and ${ci_upper}\")"
   ]
  }
 ],
 "metadata": {
  "kernelspec": {
   "display_name": "Python 3 (ipykernel)",
   "language": "python",
   "name": "python3"
  },
  "language_info": {
   "codemirror_mode": {
    "name": "ipython",
    "version": 3
   },
   "file_extension": ".py",
   "mimetype": "text/x-python",
   "name": "python",
   "nbconvert_exporter": "python",
   "pygments_lexer": "ipython3",
   "version": "3.8.8"
  }
 },
 "nbformat": 4,
 "nbformat_minor": 5
}
